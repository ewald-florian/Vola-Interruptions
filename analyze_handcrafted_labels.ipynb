{
 "cells": [
  {
   "cell_type": "code",
   "execution_count": 1,
   "metadata": {
    "collapsed": true,
    "ExecuteTime": {
     "end_time": "2023-12-10T11:41:52.509485Z",
     "start_time": "2023-12-10T11:41:52.233742Z"
    }
   },
   "outputs": [],
   "source": [
    "import os\n",
    "\n",
    "import pandas as pd"
   ]
  },
  {
   "cell_type": "markdown",
   "source": [
    "### Load Data"
   ],
   "metadata": {
    "collapsed": false
   }
  },
  {
   "cell_type": "code",
   "execution_count": 2,
   "outputs": [
    {
     "name": "stdout",
     "output_type": "stream",
     "text": [
      "/Users/florianewald/Documents/CodingProjects/LabelVolas\n"
     ]
    }
   ],
   "source": [
    "# Get the directory of the current notebook file\n",
    "notebook_directory = os.path.dirname(os.path.abspath(\"__file__\"))\n",
    "print(notebook_directory)"
   ],
   "metadata": {
    "collapsed": false,
    "ExecuteTime": {
     "end_time": "2023-12-10T11:41:52.511999Z",
     "start_time": "2023-12-10T11:41:52.509945Z"
    }
   }
  },
  {
   "cell_type": "code",
   "execution_count": 3,
   "outputs": [],
   "source": [
    "data_dir = os.path.join(notebook_directory, \"vola_data_midpoints_new\")\n",
    "target_dir = os.path.join(notebook_directory, \"labeled_data\")"
   ],
   "metadata": {
    "collapsed": false,
    "ExecuteTime": {
     "end_time": "2023-12-10T11:41:54.693206Z",
     "start_time": "2023-12-10T11:41:54.686364Z"
    }
   }
  },
  {
   "cell_type": "code",
   "execution_count": 4,
   "outputs": [],
   "source": [
    "all_vola_samples = [f for f in os.listdir(data_dir) if f.endswith('.csv.gz')]"
   ],
   "metadata": {
    "collapsed": false,
    "ExecuteTime": {
     "end_time": "2023-12-10T11:41:58.787139Z",
     "start_time": "2023-12-10T11:41:58.755925Z"
    }
   }
  },
  {
   "cell_type": "code",
   "execution_count": 5,
   "outputs": [],
   "source": [
    "labeled_files = [f for f in os.listdir(target_dir) if \"label_result_file_batch_\" in f]"
   ],
   "metadata": {
    "collapsed": false,
    "ExecuteTime": {
     "end_time": "2023-12-10T11:41:59.376571Z",
     "start_time": "2023-12-10T11:41:59.367776Z"
    }
   }
  },
  {
   "cell_type": "code",
   "execution_count": 6,
   "outputs": [
    {
     "data": {
      "text/plain": "[]"
     },
     "execution_count": 6,
     "metadata": {},
     "output_type": "execute_result"
    }
   ],
   "source": [
    "labeled_files"
   ],
   "metadata": {
    "collapsed": false,
    "ExecuteTime": {
     "end_time": "2023-12-10T11:41:59.820349Z",
     "start_time": "2023-12-10T11:41:59.813595Z"
    }
   }
  },
  {
   "cell_type": "code",
   "execution_count": 23,
   "outputs": [
    {
     "name": "stdout",
     "output_type": "stream",
     "text": [
      "num samples:  3315\n"
     ]
    }
   ],
   "source": [
    "# concatenate result files:\n",
    "concatenated_df = pd.DataFrame()\n",
    "sample_count = 0\n",
    "for file_name in labeled_files:\n",
    "    file_path = os.path.join(target_dir, file_name)\n",
    "    temp_df = pd.read_csv(file_path)\n",
    "    sample_count += len(temp_df)\n",
    "    concatenated_df = pd.concat([concatenated_df, temp_df], ignore_index=True)\n",
    "print(\"num samples: \", sample_count)"
   ],
   "metadata": {
    "collapsed": false,
    "ExecuteTime": {
     "end_time": "2023-12-08T09:47:59.290939Z",
     "start_time": "2023-12-08T09:47:59.265956Z"
    }
   }
  },
  {
   "cell_type": "code",
   "execution_count": 24,
   "outputs": [
    {
     "data": {
      "text/plain": "                                            Filename  Label Comment\n0  DE0006599905_20211119T092425_20211119T095425.c...    0.0     NaN\n1  DE000A0D9PT0_20220913T130016_20220913T133016.c...    0.0     NaN\n2  DE000A0D9PT0_20221110T132415_20221110T135415.c...    0.0     NaN\n3  DE0008430026_20200325T095853_20200325T102853.c...    0.0     NaN\n4  DE0005439004_20200527T090613_20200527T093613.c...    1.0     NaN",
      "text/html": "<div>\n<style scoped>\n    .dataframe tbody tr th:only-of-type {\n        vertical-align: middle;\n    }\n\n    .dataframe tbody tr th {\n        vertical-align: top;\n    }\n\n    .dataframe thead th {\n        text-align: right;\n    }\n</style>\n<table border=\"1\" class=\"dataframe\">\n  <thead>\n    <tr style=\"text-align: right;\">\n      <th></th>\n      <th>Filename</th>\n      <th>Label</th>\n      <th>Comment</th>\n    </tr>\n  </thead>\n  <tbody>\n    <tr>\n      <th>0</th>\n      <td>DE0006599905_20211119T092425_20211119T095425.c...</td>\n      <td>0.0</td>\n      <td>NaN</td>\n    </tr>\n    <tr>\n      <th>1</th>\n      <td>DE000A0D9PT0_20220913T130016_20220913T133016.c...</td>\n      <td>0.0</td>\n      <td>NaN</td>\n    </tr>\n    <tr>\n      <th>2</th>\n      <td>DE000A0D9PT0_20221110T132415_20221110T135415.c...</td>\n      <td>0.0</td>\n      <td>NaN</td>\n    </tr>\n    <tr>\n      <th>3</th>\n      <td>DE0008430026_20200325T095853_20200325T102853.c...</td>\n      <td>0.0</td>\n      <td>NaN</td>\n    </tr>\n    <tr>\n      <th>4</th>\n      <td>DE0005439004_20200527T090613_20200527T093613.c...</td>\n      <td>1.0</td>\n      <td>NaN</td>\n    </tr>\n  </tbody>\n</table>\n</div>"
     },
     "execution_count": 24,
     "metadata": {},
     "output_type": "execute_result"
    }
   ],
   "source": [
    "concatenated_df.head()"
   ],
   "metadata": {
    "collapsed": false,
    "ExecuteTime": {
     "end_time": "2023-12-08T09:48:16.407509Z",
     "start_time": "2023-12-08T09:48:16.401748Z"
    }
   }
  },
  {
   "cell_type": "code",
   "execution_count": 28,
   "outputs": [],
   "source": [
    "missed_samples = concatenated_df[pd.isna(concatenated_df['Label'])]"
   ],
   "metadata": {
    "collapsed": false,
    "ExecuteTime": {
     "end_time": "2023-12-08T09:50:01.269298Z",
     "start_time": "2023-12-08T09:50:01.264749Z"
    }
   }
  },
  {
   "cell_type": "code",
   "execution_count": 34,
   "outputs": [
    {
     "data": {
      "text/plain": "['DE0007030009_20220727T101824_20220727T104824.csv.gz',\n 'DE000A0D9PT0_20200330T065200_20200330T072200.csv.gz',\n 'DE000PAH0038_20200318T085726_20200318T092726.csv.gz',\n 'DE0008430026_20200319T110955_20200319T113955.csv.gz',\n 'DE0007664039_20220301T093822_20220301T100822.csv.gz']"
     },
     "execution_count": 34,
     "metadata": {},
     "output_type": "execute_result"
    }
   ],
   "source": [
    "list(missed_samples[\"Filename\"])"
   ],
   "metadata": {
    "collapsed": false,
    "ExecuteTime": {
     "end_time": "2023-12-08T09:50:31.268541Z",
     "start_time": "2023-12-08T09:50:31.262888Z"
    }
   }
  },
  {
   "cell_type": "code",
   "execution_count": null,
   "outputs": [],
   "source": [],
   "metadata": {
    "collapsed": false
   }
  },
  {
   "cell_type": "code",
   "execution_count": null,
   "outputs": [],
   "source": [],
   "metadata": {
    "collapsed": false
   }
  },
  {
   "cell_type": "code",
   "execution_count": null,
   "outputs": [],
   "source": [],
   "metadata": {
    "collapsed": false
   }
  },
  {
   "cell_type": "code",
   "execution_count": null,
   "outputs": [],
   "source": [],
   "metadata": {
    "collapsed": false
   }
  },
  {
   "cell_type": "code",
   "execution_count": null,
   "outputs": [],
   "source": [],
   "metadata": {
    "collapsed": false
   }
  }
 ],
 "metadata": {
  "kernelspec": {
   "display_name": "Python 3",
   "language": "python",
   "name": "python3"
  },
  "language_info": {
   "codemirror_mode": {
    "name": "ipython",
    "version": 2
   },
   "file_extension": ".py",
   "mimetype": "text/x-python",
   "name": "python",
   "nbconvert_exporter": "python",
   "pygments_lexer": "ipython2",
   "version": "2.7.6"
  }
 },
 "nbformat": 4,
 "nbformat_minor": 0
}
